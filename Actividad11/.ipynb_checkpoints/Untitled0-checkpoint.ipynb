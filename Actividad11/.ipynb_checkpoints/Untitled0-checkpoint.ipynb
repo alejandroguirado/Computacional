{
 "metadata": {
  "name": "",
  "signature": "sha256:372ede7b483b978ad3e5a22cc8d525a5fc30aa8ab50fda9c944be5f4ced15d40"
 },
 "nbformat": 3,
 "nbformat_minor": 0,
 "worksheets": []
}