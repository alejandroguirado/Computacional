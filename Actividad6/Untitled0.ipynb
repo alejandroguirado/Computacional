{
 "metadata": {
  "name": "",
  "signature": "sha256:744f9ca97cfd05ae2c489f7c2ade68ed4390381a60c915fe7ab17462b57b20eb"
 },
 "nbformat": 3,
 "nbformat_minor": 0,
 "worksheets": [
  {
   "cells": [
    {
     "cell_type": "code",
     "collapsed": false,
     "input": [
      "\n",
      "import scipy, scipy.integrate\n",
      "import matplotlib as mpl\n",
      "import matplotlib.pyplot as plt\n",
      "import numpy as np\n",
      " \n",
      "\n",
      "def dydt(t,y,L):\n",
      "    theta,thetaPrima = y\n",
      "    thetaPrimaPrima = -(g/L) * scipy.sin(theta)\n",
      "    return [thetaPrima,thetaPrimaPrima]\n",
      " \n",
      "\n",
      "  \n",
      "g = 9.8\n",
      "L = 1.0\n",
      "theta0 = scipy.pi/2 \n",
      "thetaPrima0 = 0.0\n",
      "  \n",
      "solucionador = scipy.integrate.ode(dydt)\n",
      "\n",
      "solucionador.set_integrator('dopri5') \n",
      "\n",
      "solucionador.set_f_params(L)\n",
      "\n",
      "solucionador.set_initial_value([theta0,thetaPrima0] , 0)\n",
      " \n",
      "thetas = [] \n",
      "dt = 0.01 \n",
      "while solucionador.successful() and solucionador.t < 10:\n",
      "    solucionador.integrate(solucionador.t+dt)\n",
      "    thetas.append(solucionador.y[0]*180/scipy.pi) \n",
      "    \n",
      "t=[]\n",
      "for i in range(len(thetas)):\n",
      "    t.append(i*dt)\n",
      " \n",
      "fig = plt.figure() \n",
      "plt.plot(t,thetas) \n",
      "plt.xlabel('tiempo (s)') \n",
      "plt.ylabel('Amplitud theta(t)') \n",
      "plt.show()"
     ],
     "language": "python",
     "metadata": {},
     "outputs": [
      {
       "metadata": {},
       "output_type": "display_data",
       "png": "[encoded data removed]",
       "text": [
        "<matplotlib.figure.Figure at 0x7f426e67f450>"
       ]
      }
     ],
     "prompt_number": 1
    },
    {
     "cell_type": "code",
     "collapsed": false,
     "input": [
      "#Importamos las librer\u00edas que utilizaremos en el c\u00f3digo.\n",
      "import numpy as np\n",
      "from scipy import integrate\n",
      "import matplotlib.pyplot as plt\n",
      "import scipy as sp\n",
      "import matplotlib as mpl\n",
      " \n",
      "# Se crea una nueva figura con Matplotlib\n",
      "fig = plt.figure()\n",
      "# Se define la aceleraci\u00f3n de la gravedad\n",
      "g = 9.8\n",
      "# Se definen los vectores vac\u00edos de abscisas y ordenadas.\n",
      "x=[]\n",
      "Ts=[]\n",
      "i = 0 # Se inicializa el contador i.\n",
      "# La variable i toma valores de 0 a 90 (grados) en este ciclo.\n",
      " \n",
      "while (i<=90):\n",
      "        i=i+1 \n",
      "        theta0 = (i*np.pi)/180 \n",
      "        l = 1 \n",
      "        f = lambda x: 1/np.sqrt(np.cos(x) - np.cos(theta0)) \n",
      "        F, erri = integrate.quad(f,0,theta0)\n",
      "        T = 4 * np.sqrt(l/g) * (1/np.sqrt(2)) * F\n",
      "        \n",
      "        x.append(i)\n",
      "      \n",
      "        Ts.append(T)\n",
      "        \n",
      "        \n",
      "        # Para graficar Ts/Ths (relaci\u00f3n entre periodo real y periodo de oscilaci\u00f3n arm\u00f3nica simple)\n",
      "Ths = 2*np.pi*np.sqrt(l/g)\n",
      "T = T/Ths\n",
      "\n",
      "plt.xlabel('Theta_o (grados)') \n",
      "plt.ylabel('Periodo (s)')\n",
      "plt.plot(x,Ts) \n",
      "plt.show() "
     ],
     "language": "python",
     "metadata": {},
     "outputs": [
      {
       "metadata": {},
       "output_type": "display_data",
       "png": "[encoded data removed]",
       "text": [
        "<matplotlib.figure.Figure at 0x7f35caa767d0>"
       ]
      }
     ],
     "prompt_number": 2
    },
    {
     "cell_type": "raw",
     "metadata": {},
     "source": [
      "2\n",
      "3\n",
      "\t\n",
      "# Para graficar Ts/Ths (relaci\u00f3n entre periodo real y periodo de oscilaci\u00f3n arm\u00f3nica simple)\n",
      "Ths = 2*np.pi*np.sqrt(l/g)\n",
      "T = T/Ths"
     ]
    },
    {
     "cell_type": "code",
     "collapsed": false,
     "input": [
      "\n",
      "# Para graficar Ts/Ths (relaci\u00f3n entre periodo real y periodo de oscilaci\u00f3n arm\u00f3nica simple)\n",
      "Ths = 2*np.pi*np.sqrt(l/g)\n",
      "T = T/Ths"
     ],
     "language": "python",
     "metadata": {},
     "outputs": [],
     "prompt_number": 4
    },
    {
     "cell_type": "code",
     "collapsed": false,
     "input": [
      "\n",
      "plt.plot(T,Ths) # Se grafican los puntos.\n",
      "plt.show() # Se muestra el gr\u00e1fico en pantalla"
     ],
     "language": "python",
     "metadata": {},
     "outputs": [
      {
       "metadata": {},
       "output_type": "display_data",
       "png": "[encoded data removed]",
       "text": [
        "<matplotlib.figure.Figure at 0x7fdca29b9290>"
       ]
      }
     ],
     "prompt_number": 5
    },
    {
     "cell_type": "code",
     "collapsed": false,
     "input": [
      "#Importamos las librer\u00edas que utilizaremos en el c\u00f3digo.\n",
      "import numpy as np\n",
      "from scipy import integrate\n",
      "import matplotlib.pyplot as plt\n",
      "import scipy as sp\n",
      "import matplotlib as mpl\n",
      " \n",
      "# Se crea una nueva figura con Matplotlib\n",
      "fig = plt.figure()\n",
      "# Se define la aceleraci\u00f3n de la gravedad\n",
      "g = 9.8\n",
      "# Se definen los vectores vac\u00edos de abscisas y ordenadas.\n",
      "x=[]\n",
      "Ts=[]\n",
      "i = 0 # Se inicializa el contador i.\n",
      "# La variable i toma valores de 0 a 90 (grados) en este ciclo.\n",
      " \n",
      "while (i<=90):\n",
      "        i=i+1 # Se aumenta el contador que representa el \u00e1ngulo de tiro \u03b8o en grados.\n",
      "        theta0 = (i*np.pi)/180 # Se hace la conversi\u00f3n de grados a radianes.\n",
      "        l = 1 # En este ejemplo el p\u00e9ndulo medir\u00e1 1 metro.\n",
      "        f = lambda x: 1/np.sqrt(np.cos(x) - np.cos(theta0)) # Se define el integrando de la ecuaci\u00f3n 9\n",
      "        # Se calcula el valor de la integral\n",
      "        F, erri = integrate.quad(f,0,theta0)\n",
      "        T = 4 * np.sqrt(l/g) * (1/np.sqrt(2)) * F\n",
      "        # Se agrega la abscisa actual al vector de abscisas.\n",
      "        x.append(i)\n",
      "        # Se agrega la ordenada actual al vector de ordenadas.\n",
      "        Ts.append(T)\n",
      "        #Calulo el periodo real entre el\n",
      "#periodo calculado y el inicial\n",
      "real=T/T0\n",
      " \n",
      "plt.xlabel('Theta_o (grados)') # T\u00edtulo eje x\n",
      "plt.ylabel('Periodo (s)') # T\u00edtulo eje y\n",
      "plt.plot(x,Ts) # Se grafican los puntos.\n",
      "plt.show() # Se muestra el gr\u00e1fico en pantalla."
     ],
     "language": "python",
     "metadata": {},
     "outputs": [
      {
       "ename": "NameError",
       "evalue": "name 'T0' is not defined",
       "output_type": "pyerr",
       "traceback": [
        "\u001b[0;31m---------------------------------------------------------------------------\u001b[0m\n\u001b[0;31mNameError\u001b[0m                                 Traceback (most recent call last)",
        "\u001b[0;32m<ipython-input-7-824276b8f943>\u001b[0m in \u001b[0;36m<module>\u001b[0;34m()\u001b[0m\n\u001b[1;32m     30\u001b[0m         \u001b[0;31m#Calulo el periodo real entre el\u001b[0m\u001b[0;34m\u001b[0m\u001b[0;34m\u001b[0m\u001b[0m\n\u001b[1;32m     31\u001b[0m \u001b[0;31m#periodo calculado y el inicial\u001b[0m\u001b[0;34m\u001b[0m\u001b[0;34m\u001b[0m\u001b[0m\n\u001b[0;32m---> 32\u001b[0;31m \u001b[0mreal\u001b[0m\u001b[0;34m=\u001b[0m\u001b[0mT\u001b[0m\u001b[0;34m/\u001b[0m\u001b[0mT0\u001b[0m\u001b[0;34m\u001b[0m\u001b[0m\n\u001b[0m\u001b[1;32m     33\u001b[0m \u001b[0;34m\u001b[0m\u001b[0m\n\u001b[1;32m     34\u001b[0m \u001b[0mplt\u001b[0m\u001b[0;34m.\u001b[0m\u001b[0mxlabel\u001b[0m\u001b[0;34m(\u001b[0m\u001b[0;34m'Theta_o (grados)'\u001b[0m\u001b[0;34m)\u001b[0m \u001b[0;31m# T\u00edtulo eje x\u001b[0m\u001b[0;34m\u001b[0m\u001b[0m\n",
        "\u001b[0;31mNameError\u001b[0m: name 'T0' is not defined"
       ]
      },
      {
       "metadata": {},
       "output_type": "display_data",
       "text": [
        "<matplotlib.figure.Figure at 0x7fdc99241f90>"
       ]
      }
     ],
     "prompt_number": 7
    },
    {
     "cell_type": "code",
     "collapsed": false,
     "input": [],
     "language": "python",
     "metadata": {},
     "outputs": []
    }
   ],
   "metadata": {}
  }
 ]
}